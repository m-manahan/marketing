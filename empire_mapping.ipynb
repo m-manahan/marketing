{
 "cells": [
  {
   "cell_type": "code",
   "execution_count": 1,
   "metadata": {},
   "outputs": [],
   "source": [
    "#goal: create a map for marketing\n",
    "import gmaps\n",
    "# Dependencies\n",
    "import requests\n",
    "import json\n",
    "\n",
    "# Google developer API key\n",
    "from config import gkey\n",
    "\n",
    "# Access maps with unique API key\n",
    "gmaps.configure(api_key=gkey)\n",
    "\n",
    "# Target city\n",
    "target_address = \"2525 Bear Valley Parkway Escondido, CA\"\n",
    "\n",
    "# Build the endpoint URL\n",
    "target_url = \"https://maps.googleapis.com/maps/api/geocode/json?\" \\\n",
    "    \"address=%s&key=%s\" % (target_address, gkey)"
   ]
  },
  {
   "cell_type": "code",
   "execution_count": 2,
   "metadata": {},
   "outputs": [
    {
     "name": "stdout",
     "output_type": "stream",
     "text": [
      "2525 Bear Valley Parkway Escondido, CA: 33.139563, -117.040235\n"
     ]
    }
   ],
   "source": [
    "# Run a request to endpoint and convert result to json\n",
    "geo_data = requests.get(target_url).json()\n",
    "# Extract latitude and longitude\n",
    "lat = geo_data[\"results\"][0][\"geometry\"][\"location\"][\"lat\"]\n",
    "lng = geo_data[\"results\"][0][\"geometry\"][\"location\"][\"lng\"]\n",
    "\n",
    "# Print the latitude and longitude\n",
    "print(\"%s: %s, %s\" % (target_address, lat, lng))"
   ]
  },
  {
   "cell_type": "code",
   "execution_count": 3,
   "metadata": {},
   "outputs": [],
   "source": [
    "# Target city\n",
    "target_address = \"2549 Algiers Street Escondido, CA\"\n",
    "\n",
    "# Build the endpoint URL\n",
    "target_url = \"https://maps.googleapis.com/maps/api/geocode/json?\" \\\n",
    "    \"address=%s&key=%s\" % (target_address, gkey)\n",
    "geo_data = requests.get(target_url).json()"
   ]
  },
  {
   "cell_type": "code",
   "execution_count": 4,
   "metadata": {},
   "outputs": [
    {
     "name": "stdout",
     "output_type": "stream",
     "text": [
      "2549 Algiers Street Escondido, CA: 33.1392621, -117.0381468\n"
     ]
    }
   ],
   "source": [
    "# Extract latitude and longitude\n",
    "lat1 = geo_data[\"results\"][0][\"geometry\"][\"location\"][\"lat\"]\n",
    "lng1 = geo_data[\"results\"][0][\"geometry\"][\"location\"][\"lng\"]\n",
    "# Print the latitude and longitude\n",
    "print(\"%s: %s, %s\" % (target_address, lat1, lng1))"
   ]
  },
  {
   "cell_type": "code",
   "execution_count": 5,
   "metadata": {},
   "outputs": [
    {
     "name": "stdout",
     "output_type": "stream",
     "text": [
      "202 Hayden Drive Escondido, CA: 33.1407546, -117.0383767\n"
     ]
    }
   ],
   "source": [
    "# Target city\n",
    "target_address = \"202 Hayden Drive Escondido, CA\"\n",
    "# Build the endpoint URL\n",
    "target_url = \"https://maps.googleapis.com/maps/api/geocode/json?\" \\\n",
    "    \"address=%s&key=%s\" % (target_address, gkey)\n",
    "geo_data = requests.get(target_url).json()\n",
    "# Extract latitude and longitude\n",
    "lat2 = geo_data[\"results\"][0][\"geometry\"][\"location\"][\"lat\"]\n",
    "lng2 = geo_data[\"results\"][0][\"geometry\"][\"location\"][\"lng\"]\n",
    "# Print the latitude and longitude\n",
    "print(\"%s: %s, %s\" % (target_address, lat2, lng2))"
   ]
  },
  {
   "cell_type": "code",
   "execution_count": 6,
   "metadata": {},
   "outputs": [
    {
     "name": "stdout",
     "output_type": "stream",
     "text": [
      "130 Encanto Drive Escondido, CA: 33.1414469, -117.0375031\n"
     ]
    }
   ],
   "source": [
    "# Target city\n",
    "target_address = \"130 Encanto Drive Escondido, CA\"\n",
    "# Build the endpoint URL\n",
    "target_url = \"https://maps.googleapis.com/maps/api/geocode/json?\" \\\n",
    "    \"address=%s&key=%s\" % (target_address, gkey)\n",
    "geo_data = requests.get(target_url).json()\n",
    "# Extract latitude and longitude\n",
    "lat3 = geo_data[\"results\"][0][\"geometry\"][\"location\"][\"lat\"]\n",
    "lng3 = geo_data[\"results\"][0][\"geometry\"][\"location\"][\"lng\"]\n",
    "# Print the latitude and longitude\n",
    "print(\"%s: %s, %s\" % (target_address, lat3, lng3))"
   ]
  },
  {
   "cell_type": "code",
   "execution_count": 7,
   "metadata": {},
   "outputs": [
    {
     "name": "stdout",
     "output_type": "stream",
     "text": [
      "2871 Jed Road Escondido, CA: 33.1404487, -117.0318477\n"
     ]
    }
   ],
   "source": [
    "# Target city\n",
    "target_address = \"2871 Jed Road Escondido, CA\"\n",
    "# Build the endpoint URL\n",
    "target_url = \"https://maps.googleapis.com/maps/api/geocode/json?\" \\\n",
    "    \"address=%s&key=%s\" % (target_address, gkey)\n",
    "geo_data = requests.get(target_url).json()\n",
    "# Extract latitude and longitude\n",
    "lat4 = geo_data[\"results\"][0][\"geometry\"][\"location\"][\"lat\"]\n",
    "lng4 = geo_data[\"results\"][0][\"geometry\"][\"location\"][\"lng\"]\n",
    "# Print the latitude and longitude\n",
    "print(\"%s: %s, %s\" % (target_address, lat4, lng4))"
   ]
  },
  {
   "cell_type": "code",
   "execution_count": 8,
   "metadata": {},
   "outputs": [
    {
     "name": "stdout",
     "output_type": "stream",
     "text": [
      "2862 Windstone Glen, Escondido, CA: 33.1418104, -117.0323765\n"
     ]
    }
   ],
   "source": [
    "# Target city\n",
    "target_address = \"2862 Windstone Glen, Escondido, CA\"\n",
    "# Build the endpoint URL\n",
    "target_url = \"https://maps.googleapis.com/maps/api/geocode/json?\" \\\n",
    "    \"address=%s&key=%s\" % (target_address, gkey)\n",
    "geo_data = requests.get(target_url).json()\n",
    "# Extract latitude and longitude\n",
    "lat5 = geo_data[\"results\"][0][\"geometry\"][\"location\"][\"lat\"]\n",
    "lng5 = geo_data[\"results\"][0][\"geometry\"][\"location\"][\"lng\"]\n",
    "# Print the latitude and longitude\n",
    "print(\"%s: %s, %s\" % (target_address, lat5, lng5))"
   ]
  },
  {
   "cell_type": "code",
   "execution_count": 9,
   "metadata": {},
   "outputs": [
    {
     "name": "stdout",
     "output_type": "stream",
     "text": [
      "211 Orleans Avenue, Escondido, CA: 33.1392484, -117.0392503\n"
     ]
    }
   ],
   "source": [
    "# Target city\n",
    "target_address = \"211 Orleans Avenue, Escondido, CA\"\n",
    "# Build the endpoint URL\n",
    "target_url = \"https://maps.googleapis.com/maps/api/geocode/json?\" \\\n",
    "    \"address=%s&key=%s\" % (target_address, gkey)\n",
    "geo_data = requests.get(target_url).json()\n",
    "# Extract latitude and longitude\n",
    "lat6 = geo_data[\"results\"][0][\"geometry\"][\"location\"][\"lat\"]\n",
    "lng6 = geo_data[\"results\"][0][\"geometry\"][\"location\"][\"lng\"]\n",
    "# Print the latitude and longitude\n",
    "print(\"%s: %s, %s\" % (target_address, lat6, lng6))"
   ]
  },
  {
   "cell_type": "code",
   "execution_count": 10,
   "metadata": {},
   "outputs": [
    {
     "name": "stdout",
     "output_type": "stream",
     "text": [
      "2730 Wedgemere Court, Escondido, CA: 33.1386521, -117.034956\n"
     ]
    }
   ],
   "source": [
    "# Target city\n",
    "target_address = \"2730 Wedgemere Court, Escondido, CA\"\n",
    "# Build the endpoint URL\n",
    "target_url = \"https://maps.googleapis.com/maps/api/geocode/json?\" \\\n",
    "    \"address=%s&key=%s\" % (target_address, gkey)\n",
    "geo_data = requests.get(target_url).json()\n",
    "# Extract latitude and longitude\n",
    "lat7 = geo_data[\"results\"][0][\"geometry\"][\"location\"][\"lat\"]\n",
    "lng7 = geo_data[\"results\"][0][\"geometry\"][\"location\"][\"lng\"]\n",
    "# Print the latitude and longitude\n",
    "print(\"%s: %s, %s\" % (target_address, lat7, lng7))"
   ]
  },
  {
   "cell_type": "code",
   "execution_count": 11,
   "metadata": {},
   "outputs": [
    {
     "name": "stdout",
     "output_type": "stream",
     "text": [
      "360 Jonah Road, Escondido, CA: 33.1400232, -117.0308821\n"
     ]
    }
   ],
   "source": [
    "# Target city\n",
    "target_address = \"360 Jonah Road, Escondido, CA\"\n",
    "# Build the endpoint URL\n",
    "target_url = \"https://maps.googleapis.com/maps/api/geocode/json?\" \\\n",
    "    \"address=%s&key=%s\" % (target_address, gkey)\n",
    "geo_data = requests.get(target_url).json()\n",
    "# Extract latitude and longitude\n",
    "lat8 = geo_data[\"results\"][0][\"geometry\"][\"location\"][\"lat\"]\n",
    "lng8 = geo_data[\"results\"][0][\"geometry\"][\"location\"][\"lng\"]\n",
    "# Print the latitude and longitude\n",
    "print(\"%s: %s, %s\" % (target_address, lat8, lng8))"
   ]
  },
  {
   "cell_type": "code",
   "execution_count": 12,
   "metadata": {},
   "outputs": [
    {
     "name": "stdout",
     "output_type": "stream",
     "text": [
      "2750 Jody Place, Escondido, CA: 33.1406087, -117.0357789\n"
     ]
    }
   ],
   "source": [
    "# Target city\n",
    "target_address = \"2750 Jody Place, Escondido, CA\"\n",
    "# Build the endpoint URL\n",
    "target_url = \"https://maps.googleapis.com/maps/api/geocode/json?\" \\\n",
    "    \"address=%s&key=%s\" % (target_address, gkey)\n",
    "geo_data = requests.get(target_url).json()\n",
    "# Extract latitude and longitude\n",
    "lat9 = geo_data[\"results\"][0][\"geometry\"][\"location\"][\"lat\"]\n",
    "lng9 = geo_data[\"results\"][0][\"geometry\"][\"location\"][\"lng\"]\n",
    "# Print the latitude and longitude\n",
    "print(\"%s: %s, %s\" % (target_address, lat9, lng9))"
   ]
  },
  {
   "cell_type": "code",
   "execution_count": 13,
   "metadata": {},
   "outputs": [
    {
     "name": "stdout",
     "output_type": "stream",
     "text": [
      "2630 Aurora Glen, Escondido, CA: 33.1370684, -117.0362157\n"
     ]
    }
   ],
   "source": [
    "# Target city\n",
    "target_address = \"2630 Aurora Glen, Escondido, CA\"\n",
    "# Build the endpoint URL\n",
    "target_url = \"https://maps.googleapis.com/maps/api/geocode/json?\" \\\n",
    "    \"address=%s&key=%s\" % (target_address, gkey)\n",
    "geo_data = requests.get(target_url).json()\n",
    "# Extract latitude and longitude\n",
    "lat10 = geo_data[\"results\"][0][\"geometry\"][\"location\"][\"lat\"]\n",
    "lng10 = geo_data[\"results\"][0][\"geometry\"][\"location\"][\"lng\"]\n",
    "# Print the latitude and longitude\n",
    "print(\"%s: %s, %s\" % (target_address, lat10, lng10))"
   ]
  },
  {
   "cell_type": "code",
   "execution_count": 14,
   "metadata": {},
   "outputs": [
    {
     "name": "stdout",
     "output_type": "stream",
     "text": [
      "2636 Daniel Glen, Escondido, CA: 33.1377166, -117.0372732\n"
     ]
    }
   ],
   "source": [
    "# Target city\n",
    "target_address = \"2636 Daniel Glen, Escondido, CA\"\n",
    "# Build the endpoint URL\n",
    "target_url = \"https://maps.googleapis.com/maps/api/geocode/json?\" \\\n",
    "    \"address=%s&key=%s\" % (target_address, gkey)\n",
    "geo_data = requests.get(target_url).json()\n",
    "# Extract latitude and longitude\n",
    "lat11 = geo_data[\"results\"][0][\"geometry\"][\"location\"][\"lat\"]\n",
    "lng11 = geo_data[\"results\"][0][\"geometry\"][\"location\"][\"lng\"]\n",
    "# Print the latitude and longitude\n",
    "print(\"%s: %s, %s\" % (target_address, lat11, lng11))"
   ]
  },
  {
   "cell_type": "code",
   "execution_count": 15,
   "metadata": {},
   "outputs": [
    {
     "name": "stdout",
     "output_type": "stream",
     "text": [
      "2835 Jed Road, Escondido, CA: 33.1400969, -117.0327443\n"
     ]
    }
   ],
   "source": [
    "# Target city\n",
    "target_address = \"2835 Jed Road, Escondido, CA\"\n",
    "# Build the endpoint URL\n",
    "target_url = \"https://maps.googleapis.com/maps/api/geocode/json?\" \\\n",
    "    \"address=%s&key=%s\" % (target_address, gkey)\n",
    "geo_data = requests.get(target_url).json()\n",
    "# Extract latitude and longitude\n",
    "lat12 = geo_data[\"results\"][0][\"geometry\"][\"location\"][\"lat\"]\n",
    "lng12 = geo_data[\"results\"][0][\"geometry\"][\"location\"][\"lng\"]\n",
    "# Print the latitude and longitude\n",
    "print(\"%s: %s, %s\" % (target_address, lat12, lng12))"
   ]
  },
  {
   "cell_type": "code",
   "execution_count": 16,
   "metadata": {},
   "outputs": [],
   "source": [
    "# Customize the size of the figure\n",
    "figure_layout = {\n",
    "    'width': '400px',\n",
    "    'height': '300px',\n",
    "    'border': '1px solid black',\n",
    "    'padding': '1px',\n",
    "    'margin': '0 auto 0 auto'\n",
    "}\n",
    "\n",
    "fig = gmaps.figure(layout=figure_layout)"
   ]
  },
  {
   "cell_type": "code",
   "execution_count": 17,
   "metadata": {},
   "outputs": [],
   "source": [
    "coordinate = [(lat,lng),(lat1,lng1),(lat2,lng2),(lat3,lng3),(lat5,lng5),(lat6,lng6),(lat7,lng7),(lat8,lng8),(lat9,lng9),(lat10,lng10),(lat11,lng11),(lat12,lng12)]\n",
    "#coordinate = [(lat,lng)]\n",
    "#text=[\"Home\"]\n",
    "text=[\"18\",\"2\",\"20\",\"12\",\"11\",\"8\",\"7\",\"4\",\"3\",\"1\",\"2\",\"21\"]"
   ]
  },
  {
   "cell_type": "code",
   "execution_count": 18,
   "metadata": {},
   "outputs": [
    {
     "data": {
      "application/vnd.jupyter.widget-view+json": {
       "model_id": "fcabea15b2744b78a385499751559bc0",
       "version_major": 2,
       "version_minor": 0
      },
      "text/plain": [
       "Figure(layout=FigureLayout(border='1px solid black', height='300px', margin='0 auto 0 auto', padding='1px', wi…"
      ]
     },
     "metadata": {},
     "output_type": "display_data"
    }
   ],
   "source": [
    "# Assign the marker layer to a variable\n",
    "import matplotlib.pyplot as plt\n",
    "markers = gmaps.marker_layer(coordinate,info_box_content=text)\n",
    "# Add the layer to the map\n",
    "fig.add_layer(markers)\n",
    "fig"
   ]
  },
  {
   "cell_type": "code",
   "execution_count": null,
   "metadata": {},
   "outputs": [],
   "source": []
  }
 ],
 "metadata": {
  "kernelspec": {
   "display_name": "Python 3",
   "language": "python",
   "name": "python3"
  },
  "language_info": {
   "codemirror_mode": {
    "name": "ipython",
    "version": 3
   },
   "file_extension": ".py",
   "mimetype": "text/x-python",
   "name": "python",
   "nbconvert_exporter": "python",
   "pygments_lexer": "ipython3",
   "version": "3.6.5"
  }
 },
 "nbformat": 4,
 "nbformat_minor": 2
}
