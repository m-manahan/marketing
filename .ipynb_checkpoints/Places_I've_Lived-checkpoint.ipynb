{
 "cells": [
  {
   "cell_type": "code",
   "execution_count": 1,
   "metadata": {},
   "outputs": [],
   "source": [
    "#goal: create a map for Empire Marketing\n",
    "import gmaps\n",
    "# Dependencies\n",
    "import requests\n",
    "import json\n",
    "#import zillow\n",
    "\n",
    "# Google developer API key\n",
    "from config import gkey\n",
    "\n",
    "# Zillow API key\n",
    "from config import zillowkey\n",
    "\n",
    "# Access maps with unique API key\n",
    "gmaps.configure(api_key=gkey)\n",
    "\n",
    "# Target city\n",
    "target_address = \"Artesia Avenue, Long Beach CA\"\n",
    "\n",
    "# Build the endpoint URL\n",
    "target_url = \"https://maps.googleapis.com/maps/api/geocode/json?\" \\\n",
    "    \"address=%s&key=%s\" % (target_address, gkey)\n"
   ]
  },
  {
   "cell_type": "code",
   "execution_count": null,
   "metadata": {},
   "outputs": [],
   "source": []
  },
  {
   "cell_type": "code",
   "execution_count": 2,
   "metadata": {},
   "outputs": [],
   "source": [
    "# Run a request to endpoint and convert result to json\n",
    "geo_data = requests.get(target_url).json()\n",
    "\n",
    "# Print the json\n",
    "#print(geo_data)"
   ]
  },
  {
   "cell_type": "code",
   "execution_count": 3,
   "metadata": {},
   "outputs": [
    {
     "name": "stdout",
     "output_type": "stream",
     "text": [
      "Artesia Avenue, Long Beach CA: 33.8746718, -118.1766266\n"
     ]
    }
   ],
   "source": [
    "# Print the json (pretty printed)\n",
    "#print(json.dumps(geo_data, indent=4, sort_keys=True))\n",
    "# Extract latitude and longitude\n",
    "lat = geo_data[\"results\"][0][\"geometry\"][\"location\"][\"lat\"]\n",
    "lng = geo_data[\"results\"][0][\"geometry\"][\"location\"][\"lng\"]\n",
    "\n",
    "# Print the latitude and longitude\n",
    "print(\"%s: %s, %s\" % (target_address, lat, lng))"
   ]
  },
  {
   "cell_type": "code",
   "execution_count": 4,
   "metadata": {},
   "outputs": [],
   "source": [
    "# Target city\n",
    "target_address = \"2011 El Dorado Park Buena Park, CA\"\n",
    "\n",
    "# Build the endpoint URL\n",
    "target_url = \"https://maps.googleapis.com/maps/api/geocode/json?\" \\\n",
    "    \"address=%s&key=%s\" % (target_address, gkey)\n",
    "geo_data = requests.get(target_url).json()"
   ]
  },
  {
   "cell_type": "code",
   "execution_count": 5,
   "metadata": {},
   "outputs": [
    {
     "name": "stdout",
     "output_type": "stream",
     "text": [
      "2011 El Dorado Park Buena Park, CA: 33.8484889, -118.0066072\n"
     ]
    }
   ],
   "source": [
    "# Print the json (pretty printed)\n",
    "#print(json.dumps(geo_data, indent=4, sort_keys=True))\n",
    "# Extract latitude and longitude\n",
    "lat2 = geo_data[\"results\"][0][\"geometry\"][\"location\"][\"lat\"]\n",
    "lng2 = geo_data[\"results\"][0][\"geometry\"][\"location\"][\"lng\"]\n",
    "\n",
    "# Print the latitude and longitude\n",
    "print(\"%s: %s, %s\" % (target_address, lat2, lng2))"
   ]
  },
  {
   "cell_type": "code",
   "execution_count": 6,
   "metadata": {},
   "outputs": [],
   "source": [
    "# Target city\n",
    "target_address = \"1224 Camino Del Sol Perris, CA\"\n",
    "\n",
    "# Build the endpoint URL\n",
    "target_url = \"https://maps.googleapis.com/maps/api/geocode/json?\" \\\n",
    "    \"address=%s&key=%s\" % (target_address, gkey)\n",
    "geo_data = requests.get(target_url).json()"
   ]
  },
  {
   "cell_type": "code",
   "execution_count": 7,
   "metadata": {},
   "outputs": [
    {
     "name": "stdout",
     "output_type": "stream",
     "text": [
      "1224 Camino Del Sol Perris, CA: 33.7968215, -117.2202785\n"
     ]
    }
   ],
   "source": [
    "# Print the json (pretty printed)\n",
    "#print(json.dumps(geo_data, indent=4, sort_keys=True))\n",
    "# Extract latitude and longitude\n",
    "lat3 = geo_data[\"results\"][0][\"geometry\"][\"location\"][\"lat\"]\n",
    "lng3 = geo_data[\"results\"][0][\"geometry\"][\"location\"][\"lng\"]\n",
    "\n",
    "# Print the latitude and longitude\n",
    "print(\"%s: %s, %s\" % (target_address, lat3, lng3))"
   ]
  },
  {
   "cell_type": "code",
   "execution_count": 8,
   "metadata": {},
   "outputs": [],
   "source": [
    "# Target city\n",
    "target_address = \"2013 Victoria Drive Fullerton, CA\"\n",
    "\n",
    "# Build the endpoint URL\n",
    "target_url = \"https://maps.googleapis.com/maps/api/geocode/json?\" \\\n",
    "    \"address=%s&key=%s\" % (target_address, gkey)\n",
    "geo_data = requests.get(target_url).json()"
   ]
  },
  {
   "cell_type": "code",
   "execution_count": 9,
   "metadata": {},
   "outputs": [
    {
     "name": "stdout",
     "output_type": "stream",
     "text": [
      "2013 Victoria Drive Fullerton, CA: 33.8807431, -117.8967277\n"
     ]
    }
   ],
   "source": [
    "# Print the json (pretty printed)\n",
    "#print(json.dumps(geo_data, indent=4, sort_keys=True))\n",
    "# Extract latitude and longitude\n",
    "lat4 = geo_data[\"results\"][0][\"geometry\"][\"location\"][\"lat\"]\n",
    "lng4 = geo_data[\"results\"][0][\"geometry\"][\"location\"][\"lng\"]\n",
    "\n",
    "# Print the latitude and longitude\n",
    "print(\"%s: %s, %s\" % (target_address, lat4, lng4))"
   ]
  },
  {
   "cell_type": "code",
   "execution_count": 10,
   "metadata": {},
   "outputs": [],
   "source": [
    "# Target city\n",
    "target_address = \"25296 Hitch Rail Lane Menifee, CA\"\n",
    "\n",
    "# Build the endpoint URL\n",
    "target_url = \"https://maps.googleapis.com/maps/api/geocode/json?\" \\\n",
    "    \"address=%s&key=%s\" % (target_address, gkey)\n",
    "geo_data = requests.get(target_url).json()"
   ]
  },
  {
   "cell_type": "code",
   "execution_count": 11,
   "metadata": {},
   "outputs": [
    {
     "name": "stdout",
     "output_type": "stream",
     "text": [
      "25296 Hitch Rail Lane Menifee, CA: 33.6840582, -117.2179981\n"
     ]
    }
   ],
   "source": [
    "# Print the json (pretty printed)\n",
    "#print(json.dumps(geo_data, indent=4, sort_keys=True))\n",
    "# Extract latitude and longitude\n",
    "lat5 = geo_data[\"results\"][0][\"geometry\"][\"location\"][\"lat\"]\n",
    "lng5 = geo_data[\"results\"][0][\"geometry\"][\"location\"][\"lng\"]\n",
    "\n",
    "# Print the latitude and longitude\n",
    "print(\"%s: %s, %s\" % (target_address, lat5, lng5))"
   ]
  },
  {
   "cell_type": "code",
   "execution_count": 12,
   "metadata": {},
   "outputs": [],
   "source": [
    "#Below is an example of calling the API for the address for the exact address match \"2114 Bigelow Ave\", \"Seattle, WA\": \n",
    "#http://www.zillow.com/webservice/GetSearchResults.htm?zws-id=<ZWSID>&address=2114+Bigelow+Ave&citystatezip=Seattle%2C+WA"
   ]
  },
  {
   "cell_type": "code",
   "execution_count": null,
   "metadata": {},
   "outputs": [],
   "source": []
  },
  {
   "cell_type": "code",
   "execution_count": 13,
   "metadata": {},
   "outputs": [],
   "source": [
    "# Target city\n",
    "target_address = \"4220 Porte De Palmas San Diego, CA\"\n",
    "\n",
    "# Build the endpoint URL\n",
    "target_url = \"https://maps.googleapis.com/maps/api/geocode/json?\" \\\n",
    "    \"address=%s&key=%s\" % (target_address, gkey)\n",
    "geo_data = requests.get(target_url).json()"
   ]
  },
  {
   "cell_type": "code",
   "execution_count": 14,
   "metadata": {},
   "outputs": [
    {
     "name": "stdout",
     "output_type": "stream",
     "text": [
      "4220 Porte De Palmas San Diego, CA: 32.8611793, -117.2239534\n"
     ]
    }
   ],
   "source": [
    "# Print the json (pretty printed)\n",
    "#print(json.dumps(geo_data, indent=4, sort_keys=True))\n",
    "# Extract latitude and longitude\n",
    "lat6 = geo_data[\"results\"][0][\"geometry\"][\"location\"][\"lat\"]\n",
    "lng6 = geo_data[\"results\"][0][\"geometry\"][\"location\"][\"lng\"]\n",
    "\n",
    "# Print the latitude and longitude\n",
    "print(\"%s: %s, %s\" % (target_address, lat6, lng6))"
   ]
  },
  {
   "cell_type": "code",
   "execution_count": null,
   "metadata": {},
   "outputs": [],
   "source": []
  },
  {
   "cell_type": "code",
   "execution_count": 15,
   "metadata": {},
   "outputs": [],
   "source": [
    "# Customize the size of the figure\n",
    "figure_layout = {\n",
    "    'width': '400px',\n",
    "    'height': '300px',\n",
    "    'border': '1px solid black',\n",
    "    'padding': '1px',\n",
    "    'margin': '0 auto 0 auto'\n",
    "}\n",
    "\n",
    "fig = gmaps.figure(layout=figure_layout)"
   ]
  },
  {
   "cell_type": "code",
   "execution_count": 16,
   "metadata": {},
   "outputs": [],
   "source": [
    "coordinate = [(lat,lng),(lat2,lng2),(lat3,lng3),(lat4,lng4),(lat5,lng5),(lat6,lng6)]\n",
    "#text=[\"Home\"]\n",
    "text=[\"1\",\"2\",\"3-$323,955\",\"4-$723,283\",\"5-$421,406\",\"6-$709,491\"]"
   ]
  },
  {
   "cell_type": "code",
   "execution_count": 17,
   "metadata": {},
   "outputs": [
    {
     "data": {
      "application/vnd.jupyter.widget-view+json": {
       "model_id": "c78b70e81fa24b078e5f5c167b9ed09d",
       "version_major": 2,
       "version_minor": 0
      },
      "text/plain": [
       "Figure(layout=FigureLayout(border='1px solid black', height='300px', margin='0 auto 0 auto', padding='1px', wi…"
      ]
     },
     "metadata": {},
     "output_type": "display_data"
    }
   ],
   "source": [
    "# Assign the marker layer to a variable\n",
    "import matplotlib.pyplot as plt\n",
    "markers = gmaps.marker_layer(coordinate,info_box_content=text)\n",
    "# Add the layer to the map\n",
    "fig.add_layer(markers)\n",
    "fig"
   ]
  },
  {
   "cell_type": "code",
   "execution_count": null,
   "metadata": {},
   "outputs": [],
   "source": []
  },
  {
   "cell_type": "code",
   "execution_count": null,
   "metadata": {},
   "outputs": [],
   "source": []
  },
  {
   "cell_type": "code",
   "execution_count": null,
   "metadata": {},
   "outputs": [],
   "source": []
  }
 ],
 "metadata": {
  "kernelspec": {
   "display_name": "Python 3",
   "language": "python",
   "name": "python3"
  },
  "language_info": {
   "codemirror_mode": {
    "name": "ipython",
    "version": 3
   },
   "file_extension": ".py",
   "mimetype": "text/x-python",
   "name": "python",
   "nbconvert_exporter": "python",
   "pygments_lexer": "ipython3",
   "version": "3.6.5"
  }
 },
 "nbformat": 4,
 "nbformat_minor": 2
}
